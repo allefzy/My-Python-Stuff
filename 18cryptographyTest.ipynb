{
 "cells": [
  {
   "cell_type": "code",
   "execution_count": 7,
   "id": "7f2a808a",
   "metadata": {},
   "outputs": [
    {
     "name": "stdout",
     "output_type": "stream",
     "text": [
      "Enter the private key: 3010\n",
      "Decrypted message:  ¡^¢k¡ \n"
     ]
    }
   ],
   "source": [
    "import random\n",
    "\n",
    "def decrypt_message(encrypted_message, private_key):\n",
    "    decrypted_message = \"\"\n",
    "    for c in encrypted_message:\n",
    "        decrypted_char = chr((ord(c) - private_key) % 256)\n",
    "        decrypted_message += decrypted_char\n",
    "    return decrypted_message\n",
    "\n",
    "def main():\n",
    "    # The encrypted message to be decrypted\n",
    "    encrypted_message = \"c` `]d`-^X[YOc]b^\\\\\" \n",
    "    \n",
    "    # Prompt the user to enter the private key\n",
    "    private_key = int(input(\"Enter the private key: \"))\n",
    "\n",
    "    # Decrypt the message using the private key\n",
    "    decrypted_message = decrypt_message(encrypted_message, private_key)\n",
    "\n",
    "    # Print the decrypted message\n",
    "    print(\"Decrypted message: \", decrypted_message)\n",
    "\n",
    "if __name__ == \"__main__\":\n",
    "    main()\n"
   ]
  },
  {
   "cell_type": "code",
   "execution_count": null,
   "id": "601ad155",
   "metadata": {},
   "outputs": [],
   "source": []
  }
 ],
 "metadata": {
  "kernelspec": {
   "display_name": "Python 3 (ipykernel)",
   "language": "python",
   "name": "python3"
  },
  "language_info": {
   "codemirror_mode": {
    "name": "ipython",
    "version": 3
   },
   "file_extension": ".py",
   "mimetype": "text/x-python",
   "name": "python",
   "nbconvert_exporter": "python",
   "pygments_lexer": "ipython3",
   "version": "3.9.13"
  }
 },
 "nbformat": 4,
 "nbformat_minor": 5
}
