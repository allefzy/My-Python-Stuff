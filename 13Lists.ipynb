{
 "cells": [
  {
   "cell_type": "code",
   "execution_count": 1,
   "id": "2c0e493f",
   "metadata": {},
   "outputs": [],
   "source": [
    "my_list = [1,2,3]"
   ]
  },
  {
   "cell_type": "code",
   "execution_count": null,
   "id": "fc21df48",
   "metadata": {},
   "outputs": [],
   "source": []
  },
  {
   "cell_type": "code",
   "execution_count": 2,
   "id": "f1f73a07",
   "metadata": {},
   "outputs": [],
   "source": [
    "my_list = ['String', 100, 23.2]"
   ]
  },
  {
   "cell_type": "code",
   "execution_count": 3,
   "id": "05f4017f",
   "metadata": {},
   "outputs": [
    {
     "data": {
      "text/plain": [
       "['String', 100, 23.2]"
      ]
     },
     "execution_count": 3,
     "metadata": {},
     "output_type": "execute_result"
    }
   ],
   "source": [
    "my_list"
   ]
  },
  {
   "cell_type": "code",
   "execution_count": 4,
   "id": "a9039194",
   "metadata": {},
   "outputs": [
    {
     "data": {
      "text/plain": [
       "3"
      ]
     },
     "execution_count": 4,
     "metadata": {},
     "output_type": "execute_result"
    }
   ],
   "source": [
    "len(my_list)"
   ]
  },
  {
   "cell_type": "code",
   "execution_count": 5,
   "id": "e2201436",
   "metadata": {},
   "outputs": [],
   "source": [
    "myNumbers = ['one','two','three']"
   ]
  },
  {
   "cell_type": "code",
   "execution_count": 6,
   "id": "baa312af",
   "metadata": {},
   "outputs": [
    {
     "data": {
      "text/plain": [
       "'one'"
      ]
     },
     "execution_count": 6,
     "metadata": {},
     "output_type": "execute_result"
    }
   ],
   "source": [
    "myNumbers[0]"
   ]
  },
  {
   "cell_type": "code",
   "execution_count": 7,
   "id": "bc15d5ab",
   "metadata": {},
   "outputs": [
    {
     "data": {
      "text/plain": [
       "['two', 'three']"
      ]
     },
     "execution_count": 7,
     "metadata": {},
     "output_type": "execute_result"
    }
   ],
   "source": [
    "myNumbers[1:]"
   ]
  },
  {
   "cell_type": "code",
   "execution_count": 8,
   "id": "9c3a8945",
   "metadata": {},
   "outputs": [],
   "source": [
    "myNumbers2 = ['four', 'five']"
   ]
  },
  {
   "cell_type": "code",
   "execution_count": 9,
   "id": "44ef80fc",
   "metadata": {},
   "outputs": [
    {
     "data": {
      "text/plain": [
       "['one', 'two', 'three', 'four', 'five']"
      ]
     },
     "execution_count": 9,
     "metadata": {},
     "output_type": "execute_result"
    }
   ],
   "source": [
    "myNumbers + myNumbers2"
   ]
  },
  {
   "cell_type": "code",
   "execution_count": 10,
   "id": "95d34a59",
   "metadata": {},
   "outputs": [],
   "source": [
    "allNumbers = myNumbers + myNumbers2"
   ]
  },
  {
   "cell_type": "code",
   "execution_count": 11,
   "id": "b0f6d475",
   "metadata": {},
   "outputs": [
    {
     "data": {
      "text/plain": [
       "['one', 'two', 'three', 'four', 'five']"
      ]
     },
     "execution_count": 11,
     "metadata": {},
     "output_type": "execute_result"
    }
   ],
   "source": [
    "allNumbers"
   ]
  },
  {
   "cell_type": "code",
   "execution_count": 12,
   "id": "829aa7a5",
   "metadata": {},
   "outputs": [],
   "source": [
    "allNumbers[0] = \"ONE\""
   ]
  },
  {
   "cell_type": "code",
   "execution_count": 13,
   "id": "9a0be025",
   "metadata": {},
   "outputs": [
    {
     "data": {
      "text/plain": [
       "['ONE', 'two', 'three', 'four', 'five']"
      ]
     },
     "execution_count": 13,
     "metadata": {},
     "output_type": "execute_result"
    }
   ],
   "source": [
    "allNumbers\n"
   ]
  },
  {
   "cell_type": "code",
   "execution_count": 14,
   "id": "701bf09b",
   "metadata": {},
   "outputs": [],
   "source": [
    "allNumbers.append('six')"
   ]
  },
  {
   "cell_type": "code",
   "execution_count": 15,
   "id": "54364f1b",
   "metadata": {},
   "outputs": [
    {
     "data": {
      "text/plain": [
       "['ONE', 'two', 'three', 'four', 'five', 'six']"
      ]
     },
     "execution_count": 15,
     "metadata": {},
     "output_type": "execute_result"
    }
   ],
   "source": [
    "allNumbers\n"
   ]
  },
  {
   "cell_type": "code",
   "execution_count": 16,
   "id": "288d34fb",
   "metadata": {},
   "outputs": [
    {
     "data": {
      "text/plain": [
       "'six'"
      ]
     },
     "execution_count": 16,
     "metadata": {},
     "output_type": "execute_result"
    }
   ],
   "source": [
    "allNumbers.pop(-1)"
   ]
  },
  {
   "cell_type": "code",
   "execution_count": 17,
   "id": "60e32474",
   "metadata": {},
   "outputs": [
    {
     "data": {
      "text/plain": [
       "['ONE', 'two', 'three', 'four', 'five']"
      ]
     },
     "execution_count": 17,
     "metadata": {},
     "output_type": "execute_result"
    }
   ],
   "source": [
    "allNumbers\n"
   ]
  },
  {
   "cell_type": "code",
   "execution_count": 18,
   "id": "766802f5",
   "metadata": {},
   "outputs": [],
   "source": [
    "popped_item = allNumbers.pop(-2)"
   ]
  },
  {
   "cell_type": "code",
   "execution_count": 19,
   "id": "538e4521",
   "metadata": {},
   "outputs": [
    {
     "data": {
      "text/plain": [
       "'four'"
      ]
     },
     "execution_count": 19,
     "metadata": {},
     "output_type": "execute_result"
    }
   ],
   "source": [
    "popped_item\n"
   ]
  },
  {
   "cell_type": "code",
   "execution_count": 20,
   "id": "b15e2c4e",
   "metadata": {},
   "outputs": [
    {
     "data": {
      "text/plain": [
       "['ONE', 'two', 'three', 'five']"
      ]
     },
     "execution_count": 20,
     "metadata": {},
     "output_type": "execute_result"
    }
   ],
   "source": [
    "allNumbers"
   ]
  },
  {
   "cell_type": "code",
   "execution_count": 21,
   "id": "286eae01",
   "metadata": {},
   "outputs": [],
   "source": [
    "newList = ['a','e','x','b','c']"
   ]
  },
  {
   "cell_type": "code",
   "execution_count": 22,
   "id": "cb170e7a",
   "metadata": {},
   "outputs": [],
   "source": [
    "numList = [4,1,8,3]"
   ]
  },
  {
   "cell_type": "code",
   "execution_count": 23,
   "id": "93a31771",
   "metadata": {},
   "outputs": [],
   "source": [
    "newList.sort()"
   ]
  },
  {
   "cell_type": "code",
   "execution_count": 24,
   "id": "6ddea6d8",
   "metadata": {},
   "outputs": [
    {
     "data": {
      "text/plain": [
       "['a', 'b', 'c', 'e', 'x']"
      ]
     },
     "execution_count": 24,
     "metadata": {},
     "output_type": "execute_result"
    }
   ],
   "source": [
    "newList"
   ]
  },
  {
   "cell_type": "code",
   "execution_count": 25,
   "id": "4fbe48c1",
   "metadata": {},
   "outputs": [],
   "source": [
    "numList.sort()"
   ]
  },
  {
   "cell_type": "code",
   "execution_count": 26,
   "id": "59e9a690",
   "metadata": {},
   "outputs": [
    {
     "data": {
      "text/plain": [
       "[1, 3, 4, 8]"
      ]
     },
     "execution_count": 26,
     "metadata": {},
     "output_type": "execute_result"
    }
   ],
   "source": [
    "numList"
   ]
  },
  {
   "cell_type": "code",
   "execution_count": 27,
   "id": "cc83f805",
   "metadata": {},
   "outputs": [],
   "source": [
    "testList = [7, 'six', 5.9]"
   ]
  },
  {
   "cell_type": "code",
   "execution_count": 28,
   "id": "9777ad7c",
   "metadata": {},
   "outputs": [
    {
     "data": {
      "text/plain": [
       "[7, 'six', 5.9]"
      ]
     },
     "execution_count": 28,
     "metadata": {},
     "output_type": "execute_result"
    }
   ],
   "source": [
    "testList"
   ]
  },
  {
   "cell_type": "code",
   "execution_count": 29,
   "id": "62a521ae",
   "metadata": {},
   "outputs": [
    {
     "data": {
      "text/plain": [
       "[7, 'six', 5.9]"
      ]
     },
     "execution_count": 29,
     "metadata": {},
     "output_type": "execute_result"
    }
   ],
   "source": [
    "[7, 'six', 5.9]\n"
   ]
  },
  {
   "cell_type": "code",
   "execution_count": 30,
   "id": "f9791311",
   "metadata": {},
   "outputs": [
    {
     "data": {
      "text/plain": [
       "list"
      ]
     },
     "execution_count": 30,
     "metadata": {},
     "output_type": "execute_result"
    }
   ],
   "source": [
    "type([7, 'six', 5.9])"
   ]
  },
  {
   "cell_type": "code",
   "execution_count": 31,
   "id": "7f5d1b3d",
   "metadata": {},
   "outputs": [],
   "source": [
    "lst=['a','b','c']"
   ]
  },
  {
   "cell_type": "code",
   "execution_count": 32,
   "id": "e28f078f",
   "metadata": {},
   "outputs": [
    {
     "data": {
      "text/plain": [
       "['b', 'c']"
      ]
     },
     "execution_count": 32,
     "metadata": {},
     "output_type": "execute_result"
    }
   ],
   "source": [
    "lst[1:]"
   ]
  },
  {
   "cell_type": "code",
   "execution_count": null,
   "id": "d54bac6e",
   "metadata": {},
   "outputs": [],
   "source": []
  }
 ],
 "metadata": {
  "kernelspec": {
   "display_name": "Python 3 (ipykernel)",
   "language": "python",
   "name": "python3"
  },
  "language_info": {
   "codemirror_mode": {
    "name": "ipython",
    "version": 3
   },
   "file_extension": ".py",
   "mimetype": "text/x-python",
   "name": "python",
   "nbconvert_exporter": "python",
   "pygments_lexer": "ipython3",
   "version": "3.9.13"
  }
 },
 "nbformat": 4,
 "nbformat_minor": 5
}
