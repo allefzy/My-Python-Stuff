{
 "cells": [
  {
   "cell_type": "code",
   "execution_count": 1,
   "id": "d183910d",
   "metadata": {},
   "outputs": [],
   "source": [
    "# CARD\n",
    "# SUIT, RANK,VALUE\n",
    "import random\n",
    "\n",
    "suits = ('Hearts', 'Diamonds', 'Spades', 'Clubs')\n",
    "ranks = ('Two', 'Three', 'Four', 'Five', 'Six', 'Seven', 'Eight', 'Nine', 'Ten', 'Jack', 'Queen', 'King', 'Ace')\n",
    "values = {'Two':2, 'Three':3, 'Four':4, 'Five':5, 'Six':6, 'Seven':7, 'Eight':8, 'Nine':9, 'Ten':10, 'Jack':11, 'Queen':12, 'King':13, 'Ace':14}\n",
    "\n",
    "#DECK\n",
    "\n",
    "#PLAYER"
   ]
  },
  {
   "cell_type": "code",
   "execution_count": 2,
   "id": "c7029cc4",
   "metadata": {},
   "outputs": [],
   "source": [
    "class Card:\n",
    "    \n",
    "    def __init__(self,suit,rank):\n",
    "        self.suit = suit\n",
    "        self.rank = rank\n",
    "        self.value = values[rank]\n",
    "        \n",
    "    def __str__(self):\n",
    "        return self.rank + \" of \" + self.suit"
   ]
  },
  {
   "cell_type": "code",
   "execution_count": 3,
   "id": "a6d69545",
   "metadata": {},
   "outputs": [],
   "source": [
    "three_of_clubs = Card(\"Clubs\",'Three')"
   ]
  },
  {
   "cell_type": "code",
   "execution_count": 4,
   "id": "49819d0f",
   "metadata": {},
   "outputs": [
    {
     "data": {
      "text/plain": [
       "3"
      ]
     },
     "execution_count": 4,
     "metadata": {},
     "output_type": "execute_result"
    }
   ],
   "source": [
    "three_of_clubs.value"
   ]
  },
  {
   "cell_type": "code",
   "execution_count": null,
   "id": "9304e368",
   "metadata": {},
   "outputs": [],
   "source": []
  },
  {
   "cell_type": "code",
   "execution_count": 5,
   "id": "0e9eba68",
   "metadata": {},
   "outputs": [],
   "source": [
    "two_hearts = Card(\"Hearts\",\"Two\")"
   ]
  },
  {
   "cell_type": "code",
   "execution_count": 6,
   "id": "1d5535fd",
   "metadata": {},
   "outputs": [
    {
     "name": "stdout",
     "output_type": "stream",
     "text": [
      "Two of Hearts\n"
     ]
    }
   ],
   "source": [
    "print(two_hearts)"
   ]
  },
  {
   "cell_type": "code",
   "execution_count": 7,
   "id": "39f49381",
   "metadata": {},
   "outputs": [
    {
     "data": {
      "text/plain": [
       "'Hearts'"
      ]
     },
     "execution_count": 7,
     "metadata": {},
     "output_type": "execute_result"
    }
   ],
   "source": [
    "two_hearts.suit"
   ]
  },
  {
   "cell_type": "code",
   "execution_count": 8,
   "id": "6217c287",
   "metadata": {},
   "outputs": [
    {
     "data": {
      "text/plain": [
       "'Two'"
      ]
     },
     "execution_count": 8,
     "metadata": {},
     "output_type": "execute_result"
    }
   ],
   "source": [
    "two_hearts.rank"
   ]
  },
  {
   "cell_type": "code",
   "execution_count": 9,
   "id": "a5828cb9",
   "metadata": {},
   "outputs": [
    {
     "data": {
      "text/plain": [
       "True"
      ]
     },
     "execution_count": 9,
     "metadata": {},
     "output_type": "execute_result"
    }
   ],
   "source": [
    "two_hearts.value < three_of_clubs.value"
   ]
  },
  {
   "cell_type": "code",
   "execution_count": null,
   "id": "33d7e21f",
   "metadata": {},
   "outputs": [],
   "source": []
  },
  {
   "cell_type": "code",
   "execution_count": 10,
   "id": "38912c92",
   "metadata": {},
   "outputs": [],
   "source": [
    "class Deck:\n",
    "    \n",
    "    def __init__(self):\n",
    "        self.all_cards = []\n",
    "        \n",
    "        for suit in suits:\n",
    "            for rank in ranks:\n",
    "                #create the Card Object\n",
    "                created_card = Card(suit,rank)\n",
    "                \n",
    "                self.all_cards.append(created_card)\n",
    "                \n",
    "    def shuffle(self):\n",
    "        \n",
    "        random.shuffle(self.all_cards)\n",
    "        \n",
    "    def deal_one(self):\n",
    "        return self.all_cards.pop()"
   ]
  },
  {
   "cell_type": "code",
   "execution_count": 11,
   "id": "25d5bd73",
   "metadata": {},
   "outputs": [],
   "source": [
    "new_deck = Deck()"
   ]
  },
  {
   "cell_type": "code",
   "execution_count": 12,
   "id": "1ff6be0f",
   "metadata": {},
   "outputs": [],
   "source": [
    "new_deck.shuffle()"
   ]
  },
  {
   "cell_type": "code",
   "execution_count": 13,
   "id": "ad6a121e",
   "metadata": {},
   "outputs": [],
   "source": [
    "mycard = new_deck.deal_one()"
   ]
  },
  {
   "cell_type": "code",
   "execution_count": 14,
   "id": "39d366dc",
   "metadata": {},
   "outputs": [
    {
     "name": "stdout",
     "output_type": "stream",
     "text": [
      "Eight of Diamonds\n"
     ]
    }
   ],
   "source": [
    "print(mycard)"
   ]
  },
  {
   "cell_type": "code",
   "execution_count": 15,
   "id": "8db97878",
   "metadata": {},
   "outputs": [
    {
     "data": {
      "text/plain": [
       "51"
      ]
     },
     "execution_count": 15,
     "metadata": {},
     "output_type": "execute_result"
    }
   ],
   "source": [
    "len(new_deck.all_cards)"
   ]
  },
  {
   "cell_type": "code",
   "execution_count": 16,
   "id": "c9ffa853",
   "metadata": {},
   "outputs": [
    {
     "data": {
      "text/plain": [
       "[<__main__.Card at 0x1aff97217f0>,\n",
       " <__main__.Card at 0x1aff92647f0>,\n",
       " <__main__.Card at 0x1aff97609d0>,\n",
       " <__main__.Card at 0x1aff9361190>,\n",
       " <__main__.Card at 0x1aff9721970>,\n",
       " <__main__.Card at 0x1aff9760c70>,\n",
       " <__main__.Card at 0x1aff9721ee0>,\n",
       " <__main__.Card at 0x1aff9760c40>,\n",
       " <__main__.Card at 0x1aff9721160>,\n",
       " <__main__.Card at 0x1aff9760370>,\n",
       " <__main__.Card at 0x1aff9721fd0>,\n",
       " <__main__.Card at 0x1aff9760820>,\n",
       " <__main__.Card at 0x1aff9354640>,\n",
       " <__main__.Card at 0x1aff9760be0>,\n",
       " <__main__.Card at 0x1aff970d100>,\n",
       " <__main__.Card at 0x1aff9721370>,\n",
       " <__main__.Card at 0x1aff9760790>,\n",
       " <__main__.Card at 0x1aff9721e50>,\n",
       " <__main__.Card at 0x1aff9721f40>,\n",
       " <__main__.Card at 0x1aff9760dc0>,\n",
       " <__main__.Card at 0x1aff9760310>,\n",
       " <__main__.Card at 0x1aff93618e0>,\n",
       " <__main__.Card at 0x1aff97210d0>,\n",
       " <__main__.Card at 0x1aff9760520>,\n",
       " <__main__.Card at 0x1aff9721ca0>,\n",
       " <__main__.Card at 0x1aff97605b0>,\n",
       " <__main__.Card at 0x1aff9760d30>,\n",
       " <__main__.Card at 0x1aff9721310>,\n",
       " <__main__.Card at 0x1aff9760190>,\n",
       " <__main__.Card at 0x1aff970d760>,\n",
       " <__main__.Card at 0x1aff970d9a0>,\n",
       " <__main__.Card at 0x1aff9721e80>,\n",
       " <__main__.Card at 0x1aff9760d00>,\n",
       " <__main__.Card at 0x1aff9721c10>,\n",
       " <__main__.Card at 0x1aff9760550>,\n",
       " <__main__.Card at 0x1aff9721130>,\n",
       " <__main__.Card at 0x1aff9721280>,\n",
       " <__main__.Card at 0x1aff9721250>,\n",
       " <__main__.Card at 0x1aff97609a0>,\n",
       " <__main__.Card at 0x1aff9721220>,\n",
       " <__main__.Card at 0x1aff9760f10>,\n",
       " <__main__.Card at 0x1aff970d040>,\n",
       " <__main__.Card at 0x1aff970d820>,\n",
       " <__main__.Card at 0x1aff970d640>,\n",
       " <__main__.Card at 0x1aff970ddc0>,\n",
       " <__main__.Card at 0x1aff970d610>,\n",
       " <__main__.Card at 0x1aff9760bb0>,\n",
       " <__main__.Card at 0x1aff97600d0>,\n",
       " <__main__.Card at 0x1aff9721070>,\n",
       " <__main__.Card at 0x1aff9760250>,\n",
       " <__main__.Card at 0x1aff970d8b0>]"
      ]
     },
     "execution_count": 16,
     "metadata": {},
     "output_type": "execute_result"
    }
   ],
   "source": [
    "new_deck.all_cards"
   ]
  },
  {
   "cell_type": "code",
   "execution_count": 17,
   "id": "6b27c821",
   "metadata": {},
   "outputs": [],
   "source": [
    "first_card = new_deck.all_cards[0]"
   ]
  },
  {
   "cell_type": "code",
   "execution_count": 18,
   "id": "df27d7f8",
   "metadata": {},
   "outputs": [
    {
     "name": "stdout",
     "output_type": "stream",
     "text": [
      "Three of Diamonds\n"
     ]
    }
   ],
   "source": [
    "print(first_card)"
   ]
  },
  {
   "cell_type": "code",
   "execution_count": 19,
   "id": "cfd55769",
   "metadata": {},
   "outputs": [],
   "source": [
    "last_card = new_deck.all_cards[-1]"
   ]
  },
  {
   "cell_type": "code",
   "execution_count": 20,
   "id": "ec23f749",
   "metadata": {},
   "outputs": [
    {
     "name": "stdout",
     "output_type": "stream",
     "text": [
      "Nine of Hearts\n"
     ]
    }
   ],
   "source": [
    "print(last_card)"
   ]
  },
  {
   "cell_type": "code",
   "execution_count": 21,
   "id": "6cd86fc7",
   "metadata": {},
   "outputs": [
    {
     "name": "stdout",
     "output_type": "stream",
     "text": [
      "Three of Diamonds\n",
      "Two of Hearts\n",
      "Seven of Clubs\n",
      "Three of Hearts\n",
      "Four of Diamonds\n",
      "Four of Clubs\n",
      "Jack of Diamonds\n",
      "Two of Clubs\n",
      "Four of Spades\n",
      "Ten of Spades\n",
      "Seven of Spades\n",
      "Ace of Spades\n",
      "Five of Hearts\n",
      "Five of Clubs\n",
      "Six of Hearts\n",
      "Two of Spades\n",
      "Three of Clubs\n",
      "Nine of Diamonds\n",
      "Ten of Diamonds\n",
      "Nine of Spades\n",
      "King of Clubs\n",
      "Four of Hearts\n",
      "Six of Spades\n",
      "Jack of Spades\n",
      "Ace of Diamonds\n",
      "Nine of Clubs\n",
      "Jack of Clubs\n",
      "Six of Diamonds\n",
      "Ace of Clubs\n",
      "Ace of Hearts\n",
      "King of Hearts\n",
      "Two of Diamonds\n",
      "Eight of Spades\n",
      "Seven of Diamonds\n",
      "King of Spades\n",
      "Queen of Diamonds\n",
      "Five of Diamonds\n",
      "Three of Spades\n",
      "Eight of Clubs\n",
      "King of Diamonds\n",
      "Queen of Spades\n",
      "Seven of Hearts\n",
      "Queen of Hearts\n",
      "Jack of Hearts\n",
      "Eight of Hearts\n",
      "Ten of Hearts\n",
      "Six of Clubs\n",
      "Queen of Clubs\n",
      "Five of Spades\n",
      "Ten of Clubs\n",
      "Nine of Hearts\n"
     ]
    }
   ],
   "source": [
    "for card_object in new_deck.all_cards:\n",
    "    print(card_object)"
   ]
  },
  {
   "cell_type": "code",
   "execution_count": 22,
   "id": "53eea2a9",
   "metadata": {},
   "outputs": [],
   "source": [
    "new_deck.shuffle()"
   ]
  },
  {
   "cell_type": "code",
   "execution_count": 23,
   "id": "e96812d4",
   "metadata": {},
   "outputs": [],
   "source": [
    "last_card = new_deck.all_cards[-1]"
   ]
  },
  {
   "cell_type": "code",
   "execution_count": 24,
   "id": "ba26a221",
   "metadata": {},
   "outputs": [
    {
     "name": "stdout",
     "output_type": "stream",
     "text": [
      "Jack of Diamonds\n"
     ]
    }
   ],
   "source": [
    "print(last_card)"
   ]
  },
  {
   "cell_type": "code",
   "execution_count": 25,
   "id": "4de24879",
   "metadata": {},
   "outputs": [
    {
     "name": "stdout",
     "output_type": "stream",
     "text": [
      "Nine of Hearts\n",
      "Ace of Diamonds\n",
      "Eight of Hearts\n",
      "Four of Diamonds\n",
      "Two of Spades\n",
      "Six of Clubs\n",
      "Nine of Spades\n",
      "Jack of Hearts\n",
      "Two of Diamonds\n",
      "Five of Spades\n",
      "Jack of Spades\n",
      "King of Hearts\n",
      "Three of Hearts\n",
      "Seven of Diamonds\n",
      "Seven of Clubs\n",
      "Five of Hearts\n",
      "Queen of Hearts\n",
      "Three of Clubs\n",
      "Queen of Clubs\n",
      "Ace of Clubs\n",
      "Ten of Clubs\n",
      "Seven of Spades\n",
      "Six of Diamonds\n",
      "Three of Diamonds\n",
      "King of Spades\n",
      "Five of Diamonds\n",
      "Ace of Hearts\n",
      "Queen of Spades\n",
      "Four of Hearts\n",
      "Queen of Diamonds\n",
      "Four of Spades\n",
      "Nine of Clubs\n",
      "Ten of Hearts\n",
      "Ten of Spades\n",
      "Five of Clubs\n",
      "Two of Clubs\n",
      "Three of Spades\n",
      "King of Diamonds\n",
      "Ace of Spades\n",
      "Ten of Diamonds\n",
      "Eight of Clubs\n",
      "Eight of Spades\n",
      "Six of Hearts\n",
      "Six of Spades\n",
      "Jack of Clubs\n",
      "Two of Hearts\n",
      "Four of Clubs\n",
      "King of Clubs\n",
      "Nine of Diamonds\n",
      "Seven of Hearts\n",
      "Jack of Diamonds\n"
     ]
    }
   ],
   "source": [
    "for card_object in new_deck.all_cards:\n",
    "     print(card_object)"
   ]
  },
  {
   "cell_type": "code",
   "execution_count": 26,
   "id": "e737cdb2",
   "metadata": {},
   "outputs": [],
   "source": [
    "class Player:\n",
    "    \n",
    "    def __init__(self,name):\n",
    "        \n",
    "        self.name = name\n",
    "        self.all_cards = []\n",
    "        \n",
    "    def remove_one(self):\n",
    "        return self.all_cards.pop(0)\n",
    "    \n",
    "    def add_cards(self,new_cards):\n",
    "        if type(new_cards) == type([]):\n",
    "            # List of multiple Card objects\n",
    "            self.all_cards.extend(new_cards)\n",
    "        else:\n",
    "            #for a single Card object.\n",
    "            self.all_cards.append(new_cards)\n",
    "    \n",
    "    def __str__(self):\n",
    "        return f'Player {self.name} has {len(self.all_cards)} cards.'"
   ]
  },
  {
   "cell_type": "code",
   "execution_count": 27,
   "id": "4d9adc19",
   "metadata": {},
   "outputs": [],
   "source": [
    "new_player = Player(\"Jose\")"
   ]
  },
  {
   "cell_type": "code",
   "execution_count": 28,
   "id": "c07d2af4",
   "metadata": {},
   "outputs": [
    {
     "name": "stdout",
     "output_type": "stream",
     "text": [
      "Player Jose has 0 cards.\n"
     ]
    }
   ],
   "source": [
    "print(new_player)"
   ]
  },
  {
   "cell_type": "code",
   "execution_count": 29,
   "id": "4743c72f",
   "metadata": {},
   "outputs": [],
   "source": [
    "new_player.add_cards(mycard)"
   ]
  },
  {
   "cell_type": "code",
   "execution_count": 30,
   "id": "8ed46bf4",
   "metadata": {},
   "outputs": [
    {
     "data": {
      "text/plain": [
       "<__main__.Player at 0x1aff9753910>"
      ]
     },
     "execution_count": 30,
     "metadata": {},
     "output_type": "execute_result"
    }
   ],
   "source": [
    "new_player"
   ]
  },
  {
   "cell_type": "code",
   "execution_count": 31,
   "id": "99c9290a",
   "metadata": {},
   "outputs": [
    {
     "name": "stdout",
     "output_type": "stream",
     "text": [
      "Player Jose has 1 cards.\n"
     ]
    }
   ],
   "source": [
    "print(new_player)"
   ]
  },
  {
   "cell_type": "code",
   "execution_count": 32,
   "id": "d8358d8c",
   "metadata": {},
   "outputs": [
    {
     "name": "stdout",
     "output_type": "stream",
     "text": [
      "Eight of Diamonds\n"
     ]
    }
   ],
   "source": [
    "print(new_player.all_cards[0])"
   ]
  },
  {
   "cell_type": "code",
   "execution_count": 33,
   "id": "7c5cb05b",
   "metadata": {},
   "outputs": [],
   "source": [
    "new_player.add_cards([mycard,mycard,mycard])"
   ]
  },
  {
   "cell_type": "code",
   "execution_count": 34,
   "id": "ab5eda43",
   "metadata": {},
   "outputs": [
    {
     "name": "stdout",
     "output_type": "stream",
     "text": [
      "Player Jose has 4 cards.\n"
     ]
    }
   ],
   "source": [
    "print(new_player)"
   ]
  },
  {
   "cell_type": "code",
   "execution_count": 35,
   "id": "1766b167",
   "metadata": {},
   "outputs": [
    {
     "data": {
      "text/plain": [
       "<__main__.Card at 0x1aff9721850>"
      ]
     },
     "execution_count": 35,
     "metadata": {},
     "output_type": "execute_result"
    }
   ],
   "source": [
    "new_player.remove_one()"
   ]
  },
  {
   "cell_type": "code",
   "execution_count": 36,
   "id": "5ded1001",
   "metadata": {},
   "outputs": [
    {
     "name": "stdout",
     "output_type": "stream",
     "text": [
      "Player Jose has 3 cards.\n"
     ]
    }
   ],
   "source": [
    "print(new_player)"
   ]
  },
  {
   "cell_type": "code",
   "execution_count": 37,
   "id": "a7b104cd",
   "metadata": {},
   "outputs": [],
   "source": [
    "# GAME SETUP\n",
    "player_one = Player(\"One\")\n",
    "player_two = Player(\"Two\")\n",
    "\n",
    "new_deck = Deck()\n",
    "new_deck.shuffle()\n",
    "\n",
    "for x in range(26):\n",
    "    player_one.add_cards(new_deck.deal_one())\n",
    "    player_two.add_cards(new_deck.deal_one())"
   ]
  },
  {
   "cell_type": "code",
   "execution_count": 38,
   "id": "761d9b1b",
   "metadata": {},
   "outputs": [],
   "source": [
    "game_on = True"
   ]
  },
  {
   "cell_type": "code",
   "execution_count": 42,
   "id": "20717b4e",
   "metadata": {},
   "outputs": [],
   "source": [
    "round_num = 0\n",
    "while game_on:\n",
    "    \n",
    "    round_num += 1\n",
    "    print(f\"Round {round_num}\")\n",
    "    \n",
    "    # Check to see if a player is out of cards:\n",
    "    if len(player_one.all_cards) == 0:\n",
    "        print(\"Player One out of cards! Game Over\")\n",
    "        print(\"Player Two Wins!\")\n",
    "        game_on = False\n",
    "        break\n",
    "        \n",
    "    if len(player_two.all_cards) == 0:\n",
    "        print(\"Player Two out of cards! Game Over\")\n",
    "        print(\"Player One Wins!\")\n",
    "        game_on = False\n",
    "        break\n",
    "    \n",
    "    # Otherwise, the game is still on!\n",
    "    \n",
    "    # Start a new round and reset current cards \"on the table\"\n",
    "    player_one_cards = []\n",
    "    player_one_cards.append(player_one.remove_one())\n",
    "    \n",
    "    player_two_cards = []\n",
    "    player_two_cards.append(player_two.remove_one())\n",
    "    \n",
    "    at_war = True\n",
    "\n",
    "    while at_war:\n",
    "\n",
    "\n",
    "        if player_one_cards[-1].value > player_two_cards[-1].value:\n",
    "\n",
    "            # Player One gets the cards\n",
    "            player_one.add_cards(player_one_cards)\n",
    "            player_one.add_cards(player_two_cards)\n",
    "            \n",
    "            \n",
    "            # No Longer at \"war\" , time for next round\n",
    "            at_war = False\n",
    "        \n",
    "        # Player Two Has higher Card\n",
    "        elif player_one_cards[-1].value < player_two_cards[-1].value:\n",
    "\n",
    "            # Player Two gets the cards\n",
    "            player_two.add_cards(player_one_cards)\n",
    "            player_two.add_cards(player_two_cards)\n",
    "            \n",
    "            # No Longer at \"war\" , time for next round\n",
    "            at_war = False\n",
    "\n",
    "        else:\n",
    "            print('WAR!')\n",
    "            # This occurs when the cards are equal.\n",
    "            # We'll grab another card each and continue the current war.\n",
    "            \n",
    "            # First check to see if player has enough cards\n",
    "            \n",
    "            # Check to see if a player is out of cards:\n",
    "            if len(player_one.all_cards) < 5:\n",
    "                print(\"Player One unable to play war! Game Over at War\")\n",
    "                print(\"Player Two Wins! Player One Loses!\")\n",
    "                game_on = False\n",
    "                break\n",
    "\n",
    "            elif len(player_two.all_cards) < 5:\n",
    "                print(\"Player Two unable to play war! Game Over at War\")\n",
    "                print(\"Player One Wins! Player Two Loses!\")\n",
    "                game_on = False\n",
    "                break\n",
    "            # Otherwise, we're still at war, so we'll add the next cards\n",
    "            else:\n",
    "                for num in range(5):\n",
    "                    player_one_cards.append(player_one.remove_one())\n",
    "                    player_two_cards.append(player_two.remove_one())"
   ]
  },
  {
   "cell_type": "code",
   "execution_count": null,
   "id": "86ebbe37",
   "metadata": {},
   "outputs": [],
   "source": []
  },
  {
   "cell_type": "code",
   "execution_count": null,
   "id": "267e4495",
   "metadata": {},
   "outputs": [],
   "source": []
  }
 ],
 "metadata": {
  "kernelspec": {
   "display_name": "Python 3 (ipykernel)",
   "language": "python",
   "name": "python3"
  },
  "language_info": {
   "codemirror_mode": {
    "name": "ipython",
    "version": 3
   },
   "file_extension": ".py",
   "mimetype": "text/x-python",
   "name": "python",
   "nbconvert_exporter": "python",
   "pygments_lexer": "ipython3",
   "version": "3.9.13"
  }
 },
 "nbformat": 4,
 "nbformat_minor": 5
}
